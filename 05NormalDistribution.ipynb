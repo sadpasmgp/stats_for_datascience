{
 "cells": [
  {
   "cell_type": "markdown",
   "metadata": {},
   "source": [
    "\n",
    "\n",
    "The Normal distribution is defined by the probability density function equation:\n",
    "    \n",
    "f(x,μ,σ) = 1* e**(−1/2*z**2 )/(σ*sqrt(2π)\n",
    "\n",
    "where z = (X-μ)/ σ\n",
    "\n",
    "where: μ=mean , σ=standard deviation , π=3.14... , e=2.718... The total area bounded by curve of the probability density function equation and the X axis is 1; thus the area under the curve between two ordinates X=a and X=b, where a<b, represents the probability that X lies between a and b. This probability can be expressed as:\n",
    "\n",
    "Pr(a<X<b)"
   ]
  },
  {
   "cell_type": "markdown",
   "metadata": {},
   "source": [
    "\n",
    "\n",
    "Let's look at the curve. The normal distribution has several characteristics:\n",
    "\n",
    "1.) It has a lower tail (on the left) and an upper tail (on the right)\n",
    "\n",
    "2.) The curve is symmetric (for the theoretical distribution)\n",
    "\n",
    "3.) The peak occurs at the mean.\n",
    "\n",
    "4.) The standard deviation gives the curve a different shape:\n",
    "    -Narrow and tall for a smaller standard deviation.\n",
    "    -Shallower and fatter for a larger standard deviation.\n",
    "    \n",
    "5.) The area under the curve is equal to 1 (the total probaility space)\n",
    "\n",
    "6.) The mean=median=mode.\n",
    "\n"
   ]
  },
  {
   "cell_type": "markdown",
   "metadata": {},
   "source": [
    "For the normal distribution, we can see what percentage of values lie between +/- a standard deviation. 68% of the values lie within 1 TSD, 95% between 2 STDs, and 99.7% between 3 STDs. The number of standard deviations is also called the z-score, which we saw above in the PDF."
   ]
  },
  {
   "cell_type": "code",
   "execution_count": 2,
   "metadata": {},
   "outputs": [
    {
     "data": {
      "text/html": [
       "<img src=\"http://upload.wikimedia.org/wikipedia/commons/thumb/2/25/The_Normal_Distribution.svg/725px-The_Normal_Distribution.svg.png\"/>"
      ],
      "text/plain": [
       "<IPython.core.display.Image object>"
      ]
     },
     "execution_count": 2,
     "metadata": {},
     "output_type": "execute_result"
    }
   ],
   "source": [
    "from IPython.display import Image\n",
    "Image(url='http://upload.wikimedia.org/wikipedia/commons/thumb/2/25/The_Normal_Distribution.svg/725px-The_Normal_Distribution.svg.png')\n",
    "\n"
   ]
  },
  {
   "cell_type": "markdown",
   "metadata": {},
   "source": [
    "Now let's learn how to use scipy to create a normal distribution"
   ]
  },
  {
   "cell_type": "code",
   "execution_count": 4,
   "metadata": {},
   "outputs": [
    {
     "data": {
      "text/plain": [
       "[<matplotlib.lines.Line2D at 0x1c5493401d0>]"
      ]
     },
     "execution_count": 4,
     "metadata": {},
     "output_type": "execute_result"
    },
    {
     "data": {
      "image/png": "[encoded data removed]",
      "text/plain": [
       "<Figure size 432x288 with 1 Axes>"
      ]
     },
     "metadata": {
      "needs_background": "light"
     },
     "output_type": "display_data"
    }
   ],
   "source": [
    "#Import\n",
    "import numpy as np\n",
    "import matplotlib as mpl\n",
    "import matplotlib.pyplot as plt\n",
    "%matplotlib inline\n",
    "\n",
    "#Import the stats library\n",
    "from scipy import stats\n",
    "\n",
    "# Set the mean\n",
    "mean = 0\n",
    "\n",
    "#Set the standard deviation\n",
    "std = 1\n",
    "\n",
    "\n",
    "# Create a range\n",
    "X = np.arange(-4,4,0.01)\n",
    "\n",
    "#Create the normal distribution for the range\n",
    "Y = stats.norm.pdf(X,mean,std)\n",
    "\n",
    "#\n",
    "plt.plot(X,Y)"
   ]
  },
  {
   "cell_type": "code",
   "execution_count": 5,
   "metadata": {},
   "outputs": [],
   "source": [
    "#Set the mean and the standard deviaiton\n",
    "mu,sigma = 0,0.1\n",
    "\n",
    "# Now grab 1000 random numbers from the normal distribution\n",
    "norm_set = np.random.normal(mu,sigma,1000)"
   ]
  },
  {
   "cell_type": "code",
   "execution_count": 7,
   "metadata": {},
   "outputs": [
    {
     "data": {
      "text/plain": [
       "(array([ 1.,  0.,  0.,  0.,  0.,  1.,  4.,  2.,  5.,  8.,  9.,  5., 18.,\n",
       "         6., 26., 12., 24., 33., 25., 33., 26., 51., 62., 43., 38., 43.,\n",
       "        42., 58., 46., 36., 48., 34., 35., 31., 35., 30., 21., 16., 25.,\n",
       "        14., 14., 11., 10.,  4.,  5.,  1.,  4.,  3.,  1.,  1.]),\n",
       " array([-0.309337  , -0.29769101, -0.28604502, -0.27439903, -0.26275304,\n",
       "        -0.25110705, -0.23946106, -0.22781507, -0.21616907, -0.20452308,\n",
       "        -0.19287709, -0.1812311 , -0.16958511, -0.15793912, -0.14629313,\n",
       "        -0.13464713, -0.12300114, -0.11135515, -0.09970916, -0.08806317,\n",
       "        -0.07641718, -0.06477119, -0.05312519, -0.0414792 , -0.02983321,\n",
       "        -0.01818722, -0.00654123,  0.00510476,  0.01675075,  0.02839674,\n",
       "         0.04004274,  0.05168873,  0.06333472,  0.07498071,  0.0866267 ,\n",
       "         0.09827269,  0.10991868,  0.12156468,  0.13321067,  0.14485666,\n",
       "         0.15650265,  0.16814864,  0.17979463,  0.19144062,  0.20308661,\n",
       "         0.21473261,  0.2263786 ,  0.23802459,  0.24967058,  0.26131657,\n",
       "         0.27296256]),\n",
       " <a list of 50 Patch objects>)"
      ]
     },
     "execution_count": 7,
     "metadata": {},
     "output_type": "execute_result"
    },
    {
     "data": {
      "image/png": "[encoded data removed]",
      "text/plain": [
       "<Figure size 432x288 with 1 Axes>"
      ]
     },
     "metadata": {},
     "output_type": "display_data"
    }
   ],
   "source": [
    "#Now let's plot it using seaborn\n",
    "\n",
    "import seaborn as sns\n",
    "sns.set_style('darkgrid')\n",
    "plt.hist(norm_set,bins=50)"
   ]
  }
 ],
 "metadata": {
  "kernelspec": {
   "display_name": "Python 3",
   "language": "python",
   "name": "python3"
  },
  "language_info": {
   "codemirror_mode": {
    "name": "ipython",
    "version": 3
   },
   "file_extension": ".py",
   "mimetype": "text/x-python",
   "name": "python",
   "nbconvert_exporter": "python",
   "pygments_lexer": "ipython3",
   "version": "3.7.3"
  }
 },
 "nbformat": 4,
 "nbformat_minor": 2
}
