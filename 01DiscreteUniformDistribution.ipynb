{
 "cells": [
  {
   "cell_type": "markdown",
   "metadata": {},
   "source": [
    "###### Discrete Uniform Distribution"
   ]
  },
  {
   "cell_type": "markdown",
   "metadata": {},
   "source": [
    "Definition:\n",
    "    \n",
    "    A random variable X has uniform distribution if each of the n values in its range: x1,x2,x3.....xn has equal probability:\n",
    "    \n",
    "    f(xi) = 1/n"
   ]
  },
  {
   "cell_type": "markdown",
   "metadata": {},
   "source": [
    "Ex: A dice roll, each face of die has 1/6 probability, or a coin tossed has 1/2 probability\n",
    "\n",
    "\n",
    "If a dice is rolled 5 times, probability of getting any particular face of dice all 5 times becomes\n",
    "\n",
    "\n",
    "f(x) = 1/5*1/6 = 1/30"
   ]
  },
  {
   "cell_type": "markdown",
   "metadata": {},
   "source": [
    "First import"
   ]
  },
  {
   "cell_type": "code",
   "execution_count": 1,
   "metadata": {},
   "outputs": [],
   "source": [
    "import numpy as np\n",
    "from numpy.random import randn\n",
    "import pandas as pd\n",
    "from scipy import stats\n",
    "import matplotlib as mpl\n",
    "import matplotlib.pyplot as plt\n",
    "import seaborn as sns\n",
    "\n",
    "%matplotlib inline"
   ]
  },
  {
   "cell_type": "markdown",
   "metadata": {},
   "source": [
    "Now lets setup a dice roll and plot the distribution"
   ]
  },
  {
   "cell_type": "code",
   "execution_count": 7,
   "metadata": {},
   "outputs": [
    {
     "data": {
      "text/plain": [
       "Text(0.5, 1.0, 'probability Mass Function for Dice Roll')"
      ]
     },
     "execution_count": 7,
     "metadata": {},
     "output_type": "execute_result"
    },
    {
     "data": {
      "image/png": "[encoded data removed]",
      "text/plain": [
       "<Figure size 432x288 with 1 Axes>"
      ]
     },
     "metadata": {
      "needs_background": "light"
     },
     "output_type": "display_data"
    }
   ],
   "source": [
    "#calculate probability for roll on a fair dice\n",
    "\n",
    "roll_options = [1,2,3,4,5,6]\n",
    "\n",
    "#total probability space\n",
    "tprob = 1\n",
    "\n",
    "#each roll has same odds of appearing(on a fair die atleast)\n",
    "prob_roll = tprob / len(roll_options)\n",
    "\n",
    "#plot using seaborn rugplot\n",
    "uni_plot = sns.rugplot(roll_options,height=1,c='indianred')\n",
    "\n",
    "#Set Title\n",
    "uni_plot.set_title('probability Mass Function for Dice Roll')"
   ]
  },
  {
   "cell_type": "markdown",
   "metadata": {},
   "source": [
    "As we can see from the graph f(x) value on the plot is just equal to 1/(Total Possible Outcomes)"
   ]
  },
  {
   "cell_type": "markdown",
   "metadata": {},
   "source": [
    "So what's the mean and variance of this uniform distribution?\n",
    "\n",
    "\n",
    "    The mean is simply the max and min value divided by two, just like the mean of two numbers.\n",
    "                                μ=(b+a)/2\n",
    "\n",
    "\n",
    "    With a variance of:\n",
    "                            σ2=(((b−a+1)**2)−1)/12"
   ]
  },
  {
   "cell_type": "markdown",
   "metadata": {},
   "source": [
    "Now lets calculate Discrete Uniform Distribution using scipy"
   ]
  },
  {
   "cell_type": "code",
   "execution_count": 15,
   "metadata": {},
   "outputs": [
    {
     "name": "stdout",
     "output_type": "stream",
     "text": [
      "The mean is 3.5\n"
     ]
    }
   ],
   "source": [
    "from scipy.stats import randint\n",
    "\n",
    "#Set up a low and high boundary for dice roll(go to 7 since index starts at 0)\n",
    "\n",
    "low,high = 1,7\n",
    "\n",
    "#Get mean and variance\n",
    "\n",
    "mean, var = randint.stats(low,high)\n",
    "\n",
    "print(\"The mean is %2.1f\"%mean)"
   ]
  },
  {
   "cell_type": "code",
   "execution_count": 16,
   "metadata": {
    "scrolled": true
   },
   "outputs": [
    {
     "data": {
      "text/plain": [
       "<BarContainer object of 6 artists>"
      ]
     },
     "execution_count": 16,
     "metadata": {},
     "output_type": "execute_result"
    },
    {
     "data": {
      "image/png": "[encoded data removed]",
      "text/plain": [
       "<Figure size 432x288 with 1 Axes>"
      ]
     },
     "metadata": {
      "needs_background": "light"
     },
     "output_type": "display_data"
    }
   ],
   "source": [
    "#Now we can plot a simple bar plot and plot probability mass function\n",
    "\n",
    "plt.bar(roll_options,randint.pmf(roll_options,low,high))"
   ]
  },
  {
   "cell_type": "markdown",
   "metadata": {},
   "source": [
    "---"
   ]
  }
 ],
 "metadata": {
  "kernelspec": {
   "display_name": "Python 3",
   "language": "python",
   "name": "python3"
  },
  "language_info": {
   "codemirror_mode": {
    "name": "ipython",
    "version": 3
   },
   "file_extension": ".py",
   "mimetype": "text/x-python",
   "name": "python",
   "nbconvert_exporter": "python",
   "pygments_lexer": "ipython3",
   "version": "3.7.3"
  }
 },
 "nbformat": 4,
 "nbformat_minor": 2
}
